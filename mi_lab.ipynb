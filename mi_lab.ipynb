{
 "cells": [
  {
   "cell_type": "code",
   "execution_count": 16,
   "id": "6bd8bb26-3663-4af5-b7d6-3253d6d4dcc3",
   "metadata": {},
   "outputs": [],
   "source": [
    "from sympy import *\n",
    "x, y = symbols(\"x y\")"
   ]
  },
  {
   "cell_type": "code",
   "execution_count": 42,
   "id": "22460e4a-9141-4414-9346-205bddf24426",
   "metadata": {},
   "outputs": [
    {
     "data": {
      "text/latex": [
       "$\\displaystyle \\int\\limits_{0}^{\\infty} e^{- x}\\, dx = x$"
      ],
      "text/plain": [
       "Eq(Integral(exp(-x), (x, 0, oo)), x)"
      ]
     },
     "metadata": {},
     "output_type": "display_data"
    },
    {
     "name": "stdout",
     "output_type": "stream",
     "text": [
      "\\int\\limits_{0}^{\\infty} e^{- x}\\, dx = x\n"
     ]
    }
   ],
   "source": [
    "ecuacion = Eq(Integral(exp(-x), (x, 0, oo)), x)\n",
    "display(ecuacion)\n",
    "print_latex(ecuacion)"
   ]
  },
  {
   "cell_type": "code",
   "execution_count": 40,
   "id": "8fd2d4c7-90ff-45bf-a465-f08996b64230",
   "metadata": {},
   "outputs": [
    {
     "name": "stdout",
     "output_type": "stream",
     "text": [
      "\\int\\limits_{0}^{\\infty} e^{- x}\\, dx = x\n"
     ]
    }
   ],
   "source": []
  }
 ],
 "metadata": {
  "kernelspec": {
   "display_name": "Python 3 (ipykernel)",
   "language": "python",
   "name": "python3"
  },
  "language_info": {
   "codemirror_mode": {
    "name": "ipython",
    "version": 3
   },
   "file_extension": ".py",
   "mimetype": "text/x-python",
   "name": "python",
   "nbconvert_exporter": "python",
   "pygments_lexer": "ipython3",
   "version": "3.10.12"
  }
 },
 "nbformat": 4,
 "nbformat_minor": 5
}
